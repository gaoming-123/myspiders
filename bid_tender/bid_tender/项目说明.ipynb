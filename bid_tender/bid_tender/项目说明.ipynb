{
 "cells": [
  {
   "cell_type": "heading",
   "metadata": {
    "collapsed": true
   },
   "level": 1,
   "source": [
    "bid_tender项目说明"
   ]
  },
  {
   "cell_type": "heading",
   "metadata": {},
   "level": 2,
   "source": [
    "项目运行"
   ]
  },
  {
   "cell_type": "markdown",
   "metadata": {},
   "source": [
    "1. 配置环境  \n",
    "pip install -r requirements.txt  \n",
    "生成requirements.txt文件的命令：pip freeze >requirements.txt  \n",
    "2. 通过 settings.py 文件中的DEV_STATUS来进行控制是否为开发测试配置  \n",
    "DEV_STATUS=True     将配置为开发配置\n",
    "3. 本地开发运行  \n",
    "python run_local_test.py\n",
    "\n",
    "4. 生产环境运行  \n",
    "python run.py\n",
    "\n"
   ]
  },
  {
   "cell_type": "heading",
   "metadata": {},
   "level": 2,
   "source": [
    "项目文件目录说明"
   ]
  },
  {
   "cell_type": "heading",
   "metadata": {},
   "level": 3,
   "source": [
    "common文件"
   ]
  },
  {
   "cell_type": "markdown",
   "metadata": {},
   "source": [
    "common文件  是公用方法存放地  \n",
    "download.py 是附件下载的方法文件  \n",
    "pur_name.py 是业主的查找方法的集合  \n",
    "sql_utils.py 是关于数据库操作的方法集合  \n",
    "utils.py 是其他的方法集合"
   ]
  },
  {
   "cell_type": "heading",
   "metadata": {},
   "level": 3,
   "source": [
    "provinces文件"
   ]
  },
  {
   "cell_type": "markdown",
   "metadata": {},
   "source": [
    "用于存放省份的模块的文件"
   ]
  },
  {
   "cell_type": "heading",
   "metadata": {},
   "level": 3,
   "source": [
    "spiders文件"
   ]
  },
  {
   "cell_type": "markdown",
   "metadata": {},
   "source": [
    "master.py  \n",
    "   是master端运行文件，主要执行从数据库中读取任务链接，保存到redis数据库中  \n",
    "slave.py  \n",
    "   是slave端运行文件 以及本地测试运行文件 主要执行爬取任务  \n",
    "test_master.py 是线上测试时master端运行文件  "
   ]
  },
  {
   "cell_type": "heading",
   "metadata": {},
   "level": 3,
   "source": [
    "task文件"
   ]
  },
  {
   "cell_type": "markdown",
   "metadata": {},
   "source": [
    "任务文件存放文件夹  \n",
    "task_config.py  保存省份的缩写，以及省份请求的权重，省份的首次/全量爬取、日常任务开关配置  \n",
    "task_deal_log.py 是处理日志文件，将错误分类法给开发人员  \n",
    "task_schedule.py 是收集每日任务url，并将url写入数据库。  "
   ]
  },
  {
   "cell_type": "heading",
   "metadata": {},
   "level": 3,
   "source": [
    "bid_tender.bash文件"
   ]
  },
  {
   "cell_type": "markdown",
   "metadata": {},
   "source": [
    "linux命令脚本文件"
   ]
  },
  {
   "cell_type": "heading",
   "metadata": {},
   "level": 3,
   "source": [
    "crontab文件"
   ]
  },
  {
   "cell_type": "markdown",
   "metadata": {},
   "source": [
    "定时任务配置文件"
   ]
  },
  {
   "cell_type": "heading",
   "metadata": {},
   "level": 3,
   "source": [
    "items.py 文件"
   ]
  },
  {
   "cell_type": "markdown",
   "metadata": {},
   "source": [
    "公共的item父类存放文件"
   ]
  },
  {
   "cell_type": "heading",
   "metadata": {},
   "level": 3,
   "source": [
    "middlerwares.py 文件"
   ]
  },
  {
   "cell_type": "markdown",
   "metadata": {},
   "source": [
    "中间件存放文件"
   ]
  },
  {
   "cell_type": "heading",
   "metadata": {},
   "level": 3,
   "source": [
    "pipelines.py 文件"
   ]
  },
  {
   "cell_type": "markdown",
   "metadata": {},
   "source": [
    "pipeline调用接口函数"
   ]
  },
  {
   "cell_type": "heading",
   "metadata": {},
   "level": 3,
   "source": [
    "run.py 文件"
   ]
  },
  {
   "cell_type": "markdown",
   "metadata": {},
   "source": [
    "生产环境运行文件"
   ]
  },
  {
   "cell_type": "heading",
   "metadata": {},
   "level": 3,
   "source": [
    "run_local_test.py 文件"
   ]
  },
  {
   "cell_type": "markdown",
   "metadata": {},
   "source": [
    "本地测试运行文件"
   ]
  },
  {
   "cell_type": "heading",
   "metadata": {},
   "level": 3,
   "source": [
    "settings.py 文件"
   ]
  },
  {
   "cell_type": "markdown",
   "metadata": {},
   "source": [
    "项目配置文件  \n",
    "**注意**：配置中存在开发与生产的所有配置，注意使用DEV_STATUS属性来进行区分"
   ]
  }
 ],
 "metadata": {
  "kernelspec": {
   "display_name": "Python 2",
   "language": "python",
   "name": "python2"
  },
  "language_info": {
   "codemirror_mode": {
    "name": "ipython",
    "version": 2
   },
   "file_extension": ".py",
   "mimetype": "text/x-python",
   "name": "python",
   "nbconvert_exporter": "python",
   "pygments_lexer": "ipython2",
   "version": "2.7.6"
  }
 },
 "nbformat": 4,
 "nbformat_minor": 0
}
